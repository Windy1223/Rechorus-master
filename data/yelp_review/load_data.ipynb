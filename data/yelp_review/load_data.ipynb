{
 "cells": [
  {
   "cell_type": "markdown",
   "metadata": {},
   "source": [
    "读取txt"
   ]
  },
  {
   "cell_type": "code",
   "execution_count": null,
   "metadata": {},
   "outputs": [
    {
     "name": "stdout",
     "output_type": "stream",
     "text": [
      "                review_id                 user_id             business_id  \\\n",
      "0  vkVSCC7xljjrAI4UGfnKEQ  bv2nCi5Qv5vroFiqKGopiw  AEx2SYEUJmTxVVB18LlCwA   \n",
      "1  n6QzIUObkYshz4dz2QRJTw  bv2nCi5Qv5vroFiqKGopiw  VR6GpWIda3SfvPC-lg9H3w   \n",
      "2  MV3CcKScW05u5LVfF6ok0g  bv2nCi5Qv5vroFiqKGopiw  CKC0-MOWMqoeWf6s-szl8g   \n",
      "3  IXvOzsEMYtiJI0CARmj77Q  bv2nCi5Qv5vroFiqKGopiw  ACFtxLv8pGrrxMm6EgjreA   \n",
      "4  L_9BTb55X0GDtThi6GlZ6w  bv2nCi5Qv5vroFiqKGopiw  s2I_Ni76bjJNK9yG60iD-Q   \n",
      "\n",
      "   stars        date                                               text  \\\n",
      "0      5  2016-05-28  Super simple place but amazing nonetheless. It...   \n",
      "1      5  2016-05-28  Small unassuming place that changes their menu...   \n",
      "2      5  2016-05-28  Lester's is located in a beautiful neighborhoo...   \n",
      "3      4  2016-05-28  Love coming here. Yes the place always needs t...   \n",
      "4      4  2016-05-28  Had their chocolate almond croissant and it wa...   \n",
      "\n",
      "   useful  funny  cool  \n",
      "0       0      0     0  \n",
      "1       0      0     0  \n",
      "2       0      0     0  \n",
      "3       0      0     0  \n",
      "4       0      0     0  \n"
     ]
    }
   ],
   "source": [
    "import pandas as pd\n",
    "\n",
    "file_path = \"yelp_review.csv\"\n",
    "\n",
    "# 只读取前 10 行 \n",
    "df = pd.read_csv(file_path, nrows=7000000)\n",
    "print(df.head())"
   ]
  },
  {
   "cell_type": "code",
   "execution_count": 17,
   "metadata": {},
   "outputs": [],
   "source": [
    "import numpy as np\n",
    "RANDOM_SEED = 0\n",
    "NEG_ITEMS = 99"
   ]
  },
  {
   "cell_type": "code",
   "execution_count": 18,
   "metadata": {},
   "outputs": [
    {
     "name": "stdout",
     "output_type": "stream",
     "text": [
      "                review_id                 user_id             business_id  \\\n",
      "0  vkVSCC7xljjrAI4UGfnKEQ  bv2nCi5Qv5vroFiqKGopiw  AEx2SYEUJmTxVVB18LlCwA   \n",
      "1  n6QzIUObkYshz4dz2QRJTw  bv2nCi5Qv5vroFiqKGopiw  VR6GpWIda3SfvPC-lg9H3w   \n",
      "2  MV3CcKScW05u5LVfF6ok0g  bv2nCi5Qv5vroFiqKGopiw  CKC0-MOWMqoeWf6s-szl8g   \n",
      "3  IXvOzsEMYtiJI0CARmj77Q  bv2nCi5Qv5vroFiqKGopiw  ACFtxLv8pGrrxMm6EgjreA   \n",
      "4  L_9BTb55X0GDtThi6GlZ6w  bv2nCi5Qv5vroFiqKGopiw  s2I_Ni76bjJNK9yG60iD-Q   \n",
      "\n",
      "   stars        date                                               text  \\\n",
      "0      5  2016-05-28  Super simple place but amazing nonetheless. It...   \n",
      "1      5  2016-05-28  Small unassuming place that changes their menu...   \n",
      "2      5  2016-05-28  Lester's is located in a beautiful neighborhoo...   \n",
      "3      4  2016-05-28  Love coming here. Yes the place always needs t...   \n",
      "4      4  2016-05-28  Had their chocolate almond croissant and it wa...   \n",
      "\n",
      "   useful  funny  cool checkin_time time_numeric  \n",
      "0       0      0     0   2016-05-28     20160528  \n",
      "1       0      0     0   2016-05-28     20160528  \n",
      "2       0      0     0   2016-05-28     20160528  \n",
      "3       0      0     0   2016-05-28     20160528  \n",
      "4       0      0     0   2016-05-28     20160528  \n"
     ]
    }
   ],
   "source": [
    "df['checkin_time']=pd.to_datetime(df['date'])\n",
    "df['time_numeric']=df['checkin_time'].dt.strftime('%Y%m%d')\n",
    "print(df.head())"
   ]
  },
  {
   "cell_type": "code",
   "execution_count": 19,
   "metadata": {},
   "outputs": [
    {
     "name": "stdout",
     "output_type": "stream",
     "text": [
      "1326101 174567 5261668 20040722 20171211\n"
     ]
    }
   ],
   "source": [
    "n_users = df['user_id'].value_counts().size\n",
    "n_items = df['business_id'].value_counts().size\n",
    "n_clicks = len(df)\n",
    "min_time = df['time_numeric'].min()\n",
    "max_time = df['time_numeric'].max()\n",
    "print(n_users, n_items, n_clicks, min_time, max_time)"
   ]
  },
  {
   "cell_type": "code",
   "execution_count": 20,
   "metadata": {},
   "outputs": [],
   "source": [
    "np.random.seed(RANDOM_SEED)"
   ]
  },
  {
   "cell_type": "code",
   "execution_count": 21,
   "metadata": {},
   "outputs": [
    {
     "data": {
      "text/html": [
       "<div>\n",
       "<style scoped>\n",
       "    .dataframe tbody tr th:only-of-type {\n",
       "        vertical-align: middle;\n",
       "    }\n",
       "\n",
       "    .dataframe tbody tr th {\n",
       "        vertical-align: top;\n",
       "    }\n",
       "\n",
       "    .dataframe thead th {\n",
       "        text-align: right;\n",
       "    }\n",
       "</style>\n",
       "<table border=\"1\" class=\"dataframe\">\n",
       "  <thead>\n",
       "    <tr style=\"text-align: right;\">\n",
       "      <th></th>\n",
       "      <th>user_id</th>\n",
       "      <th>item_id</th>\n",
       "      <th>time</th>\n",
       "    </tr>\n",
       "  </thead>\n",
       "  <tbody>\n",
       "    <tr>\n",
       "      <th>9</th>\n",
       "      <td>yYSBB5q7bY-qSVvmMgk4FA</td>\n",
       "      <td>GCRvrxMSC1nzShyM4Y-guQ</td>\n",
       "      <td>20041019</td>\n",
       "    </tr>\n",
       "    <tr>\n",
       "      <th>24</th>\n",
       "      <td>HLaSqQMDVvlcFPGJL_kGCA</td>\n",
       "      <td>xnY3_Tg5PjE_8n_bhwZu1Q</td>\n",
       "      <td>20050303</td>\n",
       "    </tr>\n",
       "    <tr>\n",
       "      <th>31</th>\n",
       "      <td>HLaSqQMDVvlcFPGJL_kGCA</td>\n",
       "      <td>_BzqiSfswHWAKL1bcvnqkA</td>\n",
       "      <td>20050307</td>\n",
       "    </tr>\n",
       "    <tr>\n",
       "      <th>71</th>\n",
       "      <td>HLaSqQMDVvlcFPGJL_kGCA</td>\n",
       "      <td>cMybOpJd352Cb6y9SeVhPw</td>\n",
       "      <td>20050325</td>\n",
       "    </tr>\n",
       "    <tr>\n",
       "      <th>73</th>\n",
       "      <td>qxC3xdg8UUKdNK9cisEmAg</td>\n",
       "      <td>hrhtWc8UcoZqYr2d7YPgEA</td>\n",
       "      <td>20050401</td>\n",
       "    </tr>\n",
       "  </tbody>\n",
       "</table>\n",
       "</div>"
      ],
      "text/plain": [
       "                   user_id                 item_id      time\n",
       "9   yYSBB5q7bY-qSVvmMgk4FA  GCRvrxMSC1nzShyM4Y-guQ  20041019\n",
       "24  HLaSqQMDVvlcFPGJL_kGCA  xnY3_Tg5PjE_8n_bhwZu1Q  20050303\n",
       "31  HLaSqQMDVvlcFPGJL_kGCA  _BzqiSfswHWAKL1bcvnqkA  20050307\n",
       "71  HLaSqQMDVvlcFPGJL_kGCA  cMybOpJd352Cb6y9SeVhPw  20050325\n",
       "73  qxC3xdg8UUKdNK9cisEmAg  hrhtWc8UcoZqYr2d7YPgEA  20050401"
      ]
     },
     "execution_count": 21,
     "metadata": {},
     "output_type": "execute_result"
    }
   ],
   "source": [
    "out_df = df.rename(columns={'business_id': 'item_id', 'user_id': 'user_id', 'time_numeric': 'time'})\n",
    "out_df = out_df[['user_id', 'item_id', 'time']]\n",
    "out_df = out_df.drop_duplicates(['user_id', 'item_id', 'time'])\n",
    "out_df = out_df.sort_values(by=['time', 'user_id'], kind='mergesort').reset_index(drop=True)\n",
    "l_u=int(len(out_df['user_id'].unique())/6)\n",
    "l_i=int(len(out_df['item_id'].unique())/6)\n",
    "\n",
    "np.random.seed(42)\n",
    "sample_users=np.random.choice(out_df['user_id'].unique(),l_u,replace=False)\n",
    "sample_items=np.random.choice(out_df['item_id'].unique(),l_i,replace=False)\n",
    "\n",
    "filtered_df=out_df[out_df['user_id'].isin(sample_users) & out_df['item_id'].isin(sample_items)]\n",
    "\n",
    "out_df=filtered_df\n",
    "out_df.head()"
   ]
  },
  {
   "cell_type": "code",
   "execution_count": 22,
   "metadata": {},
   "outputs": [
    {
     "data": {
      "text/html": [
       "<div>\n",
       "<style scoped>\n",
       "    .dataframe tbody tr th:only-of-type {\n",
       "        vertical-align: middle;\n",
       "    }\n",
       "\n",
       "    .dataframe tbody tr th {\n",
       "        vertical-align: top;\n",
       "    }\n",
       "\n",
       "    .dataframe thead th {\n",
       "        text-align: right;\n",
       "    }\n",
       "</style>\n",
       "<table border=\"1\" class=\"dataframe\">\n",
       "  <thead>\n",
       "    <tr style=\"text-align: right;\">\n",
       "      <th></th>\n",
       "      <th>user_id</th>\n",
       "      <th>item_id</th>\n",
       "      <th>time</th>\n",
       "    </tr>\n",
       "  </thead>\n",
       "  <tbody>\n",
       "    <tr>\n",
       "      <th>9</th>\n",
       "      <td>72510</td>\n",
       "      <td>5850</td>\n",
       "      <td>20041019</td>\n",
       "    </tr>\n",
       "    <tr>\n",
       "      <th>24</th>\n",
       "      <td>21348</td>\n",
       "      <td>21099</td>\n",
       "      <td>20050303</td>\n",
       "    </tr>\n",
       "    <tr>\n",
       "      <th>31</th>\n",
       "      <td>21348</td>\n",
       "      <td>12734</td>\n",
       "      <td>20050307</td>\n",
       "    </tr>\n",
       "    <tr>\n",
       "      <th>71</th>\n",
       "      <td>21348</td>\n",
       "      <td>13841</td>\n",
       "      <td>20050325</td>\n",
       "    </tr>\n",
       "    <tr>\n",
       "      <th>73</th>\n",
       "      <td>63934</td>\n",
       "      <td>15651</td>\n",
       "      <td>20050401</td>\n",
       "    </tr>\n",
       "  </tbody>\n",
       "</table>\n",
       "</div>"
      ],
      "text/plain": [
       "    user_id  item_id      time\n",
       "9     72510     5850  20041019\n",
       "24    21348    21099  20050303\n",
       "31    21348    12734  20050307\n",
       "71    21348    13841  20050325\n",
       "73    63934    15651  20050401"
      ]
     },
     "execution_count": 22,
     "metadata": {},
     "output_type": "execute_result"
    }
   ],
   "source": [
    "uids = sorted(out_df['user_id'].unique())\n",
    "user2id = dict(zip(uids, range(1, len(uids) + 1)))\n",
    "iids = sorted(out_df['item_id'].unique())\n",
    "item2id = dict(zip(iids, range(1, len(iids) + 1)))\n",
    "\n",
    "out_df['user_id'] = out_df['user_id'].apply(lambda x: user2id[x])\n",
    "out_df['item_id'] = out_df['item_id'].apply(lambda x: item2id[x])\n",
    "out_df.head()"
   ]
  },
  {
   "cell_type": "code",
   "execution_count": 23,
   "metadata": {},
   "outputs": [],
   "source": [
    "# leave one out spliting\n",
    "\n",
    "clicked_item_set = dict()\n",
    "for user_id, seq_df in out_df.groupby('user_id'):\n",
    "    clicked_item_set[user_id] = set(seq_df['item_id'].values.tolist())\n",
    "    \n",
    "def generate_dev_test(data_df):\n",
    "    result_dfs = []\n",
    "    n_items = data_df['item_id'].value_counts().size\n",
    "    for idx in range(2):\n",
    "        result_df = data_df.groupby('user_id').tail(1).copy()\n",
    "        data_df = data_df.drop(result_df.index)\n",
    "        neg_items = np.random.randint(1, n_items + 1, (len(result_df), NEG_ITEMS))\n",
    "        for i, uid in enumerate(result_df['user_id'].values):\n",
    "            user_clicked = clicked_item_set[uid]\n",
    "            for j in range(len(neg_items[i])):\n",
    "                while neg_items[i][j] in user_clicked:\n",
    "                    neg_items[i][j] = np.random.randint(1, n_items + 1)\n",
    "        result_df['neg_items'] = neg_items.tolist()\n",
    "        result_dfs.append(result_df)\n",
    "    return result_dfs, data_df"
   ]
  },
  {
   "cell_type": "code",
   "execution_count": 24,
   "metadata": {},
   "outputs": [
    {
     "data": {
      "text/plain": [
       "(112861, 11276, 22634)"
      ]
     },
     "execution_count": 24,
     "metadata": {},
     "output_type": "execute_result"
    }
   ],
   "source": [
    "import numpy as np\n",
    "leave_df = out_df.groupby('user_id').head(1)\n",
    "data_df = out_df.drop(leave_df.index)\n",
    "\n",
    "[test_df, dev_df], data_df = generate_dev_test(data_df)\n",
    "train_df = pd.concat([leave_df, data_df]).sort_index()\n",
    "\n",
    "len(train_df), len(dev_df), len(test_df)"
   ]
  },
  {
   "cell_type": "code",
   "execution_count": 25,
   "metadata": {},
   "outputs": [
    {
     "data": {
      "text/html": [
       "<div>\n",
       "<style scoped>\n",
       "    .dataframe tbody tr th:only-of-type {\n",
       "        vertical-align: middle;\n",
       "    }\n",
       "\n",
       "    .dataframe tbody tr th {\n",
       "        vertical-align: top;\n",
       "    }\n",
       "\n",
       "    .dataframe thead th {\n",
       "        text-align: right;\n",
       "    }\n",
       "</style>\n",
       "<table border=\"1\" class=\"dataframe\">\n",
       "  <thead>\n",
       "    <tr style=\"text-align: right;\">\n",
       "      <th></th>\n",
       "      <th>user_id</th>\n",
       "      <th>item_id</th>\n",
       "      <th>time</th>\n",
       "    </tr>\n",
       "  </thead>\n",
       "  <tbody>\n",
       "    <tr>\n",
       "      <th>9</th>\n",
       "      <td>72510</td>\n",
       "      <td>5850</td>\n",
       "      <td>20041019</td>\n",
       "    </tr>\n",
       "    <tr>\n",
       "      <th>24</th>\n",
       "      <td>21348</td>\n",
       "      <td>21099</td>\n",
       "      <td>20050303</td>\n",
       "    </tr>\n",
       "    <tr>\n",
       "      <th>31</th>\n",
       "      <td>21348</td>\n",
       "      <td>12734</td>\n",
       "      <td>20050307</td>\n",
       "    </tr>\n",
       "    <tr>\n",
       "      <th>71</th>\n",
       "      <td>21348</td>\n",
       "      <td>13841</td>\n",
       "      <td>20050325</td>\n",
       "    </tr>\n",
       "    <tr>\n",
       "      <th>73</th>\n",
       "      <td>63934</td>\n",
       "      <td>15651</td>\n",
       "      <td>20050401</td>\n",
       "    </tr>\n",
       "  </tbody>\n",
       "</table>\n",
       "</div>"
      ],
      "text/plain": [
       "    user_id  item_id      time\n",
       "9     72510     5850  20041019\n",
       "24    21348    21099  20050303\n",
       "31    21348    12734  20050307\n",
       "71    21348    13841  20050325\n",
       "73    63934    15651  20050401"
      ]
     },
     "execution_count": 25,
     "metadata": {},
     "output_type": "execute_result"
    }
   ],
   "source": [
    "train_df.head()"
   ]
  },
  {
   "cell_type": "code",
   "execution_count": 26,
   "metadata": {},
   "outputs": [
    {
     "data": {
      "text/html": [
       "<div>\n",
       "<style scoped>\n",
       "    .dataframe tbody tr th:only-of-type {\n",
       "        vertical-align: middle;\n",
       "    }\n",
       "\n",
       "    .dataframe tbody tr th {\n",
       "        vertical-align: top;\n",
       "    }\n",
       "\n",
       "    .dataframe thead th {\n",
       "        text-align: right;\n",
       "    }\n",
       "</style>\n",
       "<table border=\"1\" class=\"dataframe\">\n",
       "  <thead>\n",
       "    <tr style=\"text-align: right;\">\n",
       "      <th></th>\n",
       "      <th>user_id</th>\n",
       "      <th>item_id</th>\n",
       "      <th>time</th>\n",
       "      <th>neg_items</th>\n",
       "    </tr>\n",
       "  </thead>\n",
       "  <tbody>\n",
       "    <tr>\n",
       "      <th>2947</th>\n",
       "      <td>3340</td>\n",
       "      <td>6899</td>\n",
       "      <td>20060625</td>\n",
       "      <td>[13394, 14618, 7707, 8559, 13403, 8423, 15566,...</td>\n",
       "    </tr>\n",
       "    <tr>\n",
       "      <th>3434</th>\n",
       "      <td>16009</td>\n",
       "      <td>17082</td>\n",
       "      <td>20060731</td>\n",
       "      <td>[4533, 5114, 9381, 1229, 180, 9688, 3996, 1347...</td>\n",
       "    </tr>\n",
       "    <tr>\n",
       "      <th>3998</th>\n",
       "      <td>38354</td>\n",
       "      <td>13152</td>\n",
       "      <td>20060828</td>\n",
       "      <td>[10998, 12843, 4316, 1133, 7265, 12131, 3638, ...</td>\n",
       "    </tr>\n",
       "    <tr>\n",
       "      <th>4075</th>\n",
       "      <td>40882</td>\n",
       "      <td>10133</td>\n",
       "      <td>20060901</td>\n",
       "      <td>[6640, 3995, 9814, 7566, 1278, 13582, 1887, 13...</td>\n",
       "    </tr>\n",
       "    <tr>\n",
       "      <th>4336</th>\n",
       "      <td>69265</td>\n",
       "      <td>9343</td>\n",
       "      <td>20060911</td>\n",
       "      <td>[9718, 11824, 7132, 563, 11352, 12166, 3632, 2...</td>\n",
       "    </tr>\n",
       "  </tbody>\n",
       "</table>\n",
       "</div>"
      ],
      "text/plain": [
       "      user_id  item_id      time  \\\n",
       "2947     3340     6899  20060625   \n",
       "3434    16009    17082  20060731   \n",
       "3998    38354    13152  20060828   \n",
       "4075    40882    10133  20060901   \n",
       "4336    69265     9343  20060911   \n",
       "\n",
       "                                              neg_items  \n",
       "2947  [13394, 14618, 7707, 8559, 13403, 8423, 15566,...  \n",
       "3434  [4533, 5114, 9381, 1229, 180, 9688, 3996, 1347...  \n",
       "3998  [10998, 12843, 4316, 1133, 7265, 12131, 3638, ...  \n",
       "4075  [6640, 3995, 9814, 7566, 1278, 13582, 1887, 13...  \n",
       "4336  [9718, 11824, 7132, 563, 11352, 12166, 3632, 2...  "
      ]
     },
     "execution_count": 26,
     "metadata": {},
     "output_type": "execute_result"
    }
   ],
   "source": [
    "test_df.head()"
   ]
  },
  {
   "cell_type": "code",
   "execution_count": 27,
   "metadata": {},
   "outputs": [],
   "source": [
    "# save results\n",
    "\n",
    "train_df.to_csv('train.csv', sep='\\t', index=False)\n",
    "dev_df.to_csv('dev.csv', sep='\\t', index=False)\n",
    "test_df.to_csv('test.csv', sep='\\t', index=False)"
   ]
  },
  {
   "cell_type": "code",
   "execution_count": null,
   "metadata": {},
   "outputs": [],
   "source": []
  }
 ],
 "metadata": {
  "kernelspec": {
   "display_name": "Python 3",
   "language": "python",
   "name": "python3"
  },
  "language_info": {
   "codemirror_mode": {
    "name": "ipython",
    "version": 3
   },
   "file_extension": ".py",
   "mimetype": "text/x-python",
   "name": "python",
   "nbconvert_exporter": "python",
   "pygments_lexer": "ipython3",
   "version": "3.13.0"
  }
 },
 "nbformat": 4,
 "nbformat_minor": 2
}
