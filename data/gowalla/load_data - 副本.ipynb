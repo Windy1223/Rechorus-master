{
 "cells": [
  {
   "cell_type": "markdown",
   "metadata": {},
   "source": [
    "读取txt"
   ]
  },
  {
   "cell_type": "code",
   "execution_count": 122,
   "metadata": {},
   "outputs": [
    {
     "name": "stdout",
     "output_type": "stream",
     "text": [
      "   user_id  item_id\n",
      "0        0        0\n",
      "1        0        1\n",
      "2        0        2\n",
      "3        0        3\n",
      "4        0        4\n"
     ]
    }
   ],
   "source": [
    "import pandas as pd\n",
    "data_path='old_train.csv'\n",
    "test_path='old_test.csv'\n",
    "columns = ['user_id', 'item_id']\n",
    "df=pd.read_csv(data_path)\n",
    "test_df=pd.read_csv(test_path)\n",
    "print(df.head())"
   ]
  },
  {
   "cell_type": "code",
   "execution_count": 123,
   "metadata": {},
   "outputs": [],
   "source": [
    "import numpy as np\n",
    "RANDOM_SEED = 0\n",
    "NEG_ITEMS = 100"
   ]
  },
  {
   "cell_type": "code",
   "execution_count": 124,
   "metadata": {},
   "outputs": [],
   "source": [
    "np.random.seed(RANDOM_SEED)"
   ]
  },
  {
   "cell_type": "code",
   "execution_count": 125,
   "metadata": {},
   "outputs": [
    {
     "data": {
      "text/html": [
       "<div>\n",
       "<style scoped>\n",
       "    .dataframe tbody tr th:only-of-type {\n",
       "        vertical-align: middle;\n",
       "    }\n",
       "\n",
       "    .dataframe tbody tr th {\n",
       "        vertical-align: top;\n",
       "    }\n",
       "\n",
       "    .dataframe thead th {\n",
       "        text-align: right;\n",
       "    }\n",
       "</style>\n",
       "<table border=\"1\" class=\"dataframe\">\n",
       "  <thead>\n",
       "    <tr style=\"text-align: right;\">\n",
       "      <th></th>\n",
       "      <th>user_id</th>\n",
       "      <th>item_id</th>\n",
       "    </tr>\n",
       "  </thead>\n",
       "  <tbody>\n",
       "    <tr>\n",
       "      <th>0</th>\n",
       "      <td>0</td>\n",
       "      <td>0</td>\n",
       "    </tr>\n",
       "    <tr>\n",
       "      <th>1</th>\n",
       "      <td>0</td>\n",
       "      <td>1</td>\n",
       "    </tr>\n",
       "    <tr>\n",
       "      <th>2</th>\n",
       "      <td>0</td>\n",
       "      <td>2</td>\n",
       "    </tr>\n",
       "    <tr>\n",
       "      <th>3</th>\n",
       "      <td>0</td>\n",
       "      <td>3</td>\n",
       "    </tr>\n",
       "    <tr>\n",
       "      <th>4</th>\n",
       "      <td>0</td>\n",
       "      <td>4</td>\n",
       "    </tr>\n",
       "  </tbody>\n",
       "</table>\n",
       "</div>"
      ],
      "text/plain": [
       "   user_id  item_id\n",
       "0        0        0\n",
       "1        0        1\n",
       "2        0        2\n",
       "3        0        3\n",
       "4        0        4"
      ]
     },
     "execution_count": 125,
     "metadata": {},
     "output_type": "execute_result"
    }
   ],
   "source": [
    "# out_df = df.rename(columns={'location_id': 'item_id', 'user_id': 'user_id', 'time_numeric': 'time'})\n",
    "# out_df = out_df[['user_id', 'item_id', 'time']]\n",
    "# out_df = out_df.drop_duplicates(['user_id', 'item_id', 'time'])\n",
    "# out_df = out_df.sort_values(by=['time', 'user_id'], kind='mergesort').reset_index(drop=True)\n",
    "# l_u=int(len(out_df['user_id'].unique())/6)\n",
    "# l_i=int(len(out_df['item_id'].unique())/6)\n",
    "\n",
    "# np.random.seed(42)\n",
    "# sample_users=np.random.choice(out_df['user_id'].unique(),l_u,replace=False)\n",
    "# sample_items=np.random.choice(out_df['item_id'].unique(),l_i,replace=False)\n",
    "\n",
    "# filtered_df=out_df[out_df['user_id'].isin(sample_users) & out_df['item_id'].isin(sample_items)]\n",
    "\n",
    "out_df=df\n",
    "out_df.head()"
   ]
  },
  {
   "cell_type": "code",
   "execution_count": 126,
   "metadata": {},
   "outputs": [],
   "source": [
    "# uids = sorted(out_df['user_id'].unique())\n",
    "# user2id = dict(zip(uids, range(1, len(uids) + 1)))\n",
    "# iids = sorted(out_df['item_id'].unique())\n",
    "# item2id = dict(zip(iids, range(1, len(iids) + 1)))\n",
    "\n",
    "# out_df['user_id'] = out_df['user_id'].apply(lambda x: user2id[x])\n",
    "# out_df['item_id'] = out_df['item_id'].apply(lambda x: item2id[x])\n",
    "# out_df.head()"
   ]
  },
  {
   "cell_type": "code",
   "execution_count": 127,
   "metadata": {},
   "outputs": [],
   "source": [
    "# leave one out spliting\n",
    "\n",
    "clicked_item_set = dict()\n",
    "for user_id, seq_df in out_df.groupby('user_id'):\n",
    "    clicked_item_set[user_id] = set(seq_df['item_id'].values.tolist())\n",
    "    \n",
    "def generate_dev_test(data_df):\n",
    "    result_dfs = []\n",
    "    n_items = data_df['item_id'].value_counts().size\n",
    "    for idx in range(1):\n",
    "        result_df = data_df.groupby('user_id').tail(1).copy()\n",
    "        data_df = data_df.drop(result_df.index)\n",
    "        neg_items = np.random.randint(1, n_items + 1, (len(result_df), NEG_ITEMS))\n",
    "        for i, uid in enumerate(result_df['user_id'].values):\n",
    "            user_clicked = clicked_item_set[uid]\n",
    "            for j in range(len(neg_items[i])):\n",
    "                while neg_items[i][j] in user_clicked:\n",
    "                    neg_items[i][j] = np.random.randint(1, n_items + 1)\n",
    "        result_df['neg_items'] = neg_items.tolist()\n",
    "        result_dfs.append(result_df)\n",
    "    return result_dfs, data_df"
   ]
  },
  {
   "cell_type": "code",
   "execution_count": 128,
   "metadata": {},
   "outputs": [],
   "source": [
    "def generate_test_neg_from_dev(test_df, dev_df):\n",
    "    # 将 dev_df 中的 neg_items 合并到 test_df 中\n",
    "    dev_neg_dict = dev_df.set_index('user_id')['neg_items'].to_dict()  # user_id -> neg_items 映射\n",
    "    \n",
    "    neg_items_list = []\n",
    "    for uid in test_df['user_id']:\n",
    "        if uid in dev_neg_dict:  # 如果 dev 中有对应的负样本\n",
    "            neg_items = dev_neg_dict[uid]\n",
    "        # else:  # 如果 dev 中没有负样本，则随机生成\n",
    "        #     n_items = test_df['item_id'].nunique()\n",
    "        #     neg_items = np.random.randint(1, n_items + 1, 10).tolist()\n",
    "        neg_items_list.append(neg_items)\n",
    "    \n",
    "    test_df['neg_items'] = neg_items_list\n",
    "    return test_df\n"
   ]
  },
  {
   "cell_type": "code",
   "execution_count": 129,
   "metadata": {},
   "outputs": [
    {
     "data": {
      "text/plain": [
       "(780270, 29858)"
      ]
     },
     "execution_count": 129,
     "metadata": {},
     "output_type": "execute_result"
    }
   ],
   "source": [
    "import numpy as np\n",
    "leave_df = out_df.groupby('user_id').head(1)\n",
    "data_df = out_df.drop(leave_df.index)\n",
    "\n",
    "[dev_df], data_df = generate_dev_test(data_df)\n",
    "t_df=generate_test_neg_from_dev(test_df,dev_df)\n",
    "train_df = pd.concat([leave_df, data_df]).sort_index()\n",
    "\n",
    "len(train_df), len(dev_df)"
   ]
  },
  {
   "cell_type": "code",
   "execution_count": 130,
   "metadata": {},
   "outputs": [
    {
     "data": {
      "text/html": [
       "<div>\n",
       "<style scoped>\n",
       "    .dataframe tbody tr th:only-of-type {\n",
       "        vertical-align: middle;\n",
       "    }\n",
       "\n",
       "    .dataframe tbody tr th {\n",
       "        vertical-align: top;\n",
       "    }\n",
       "\n",
       "    .dataframe thead th {\n",
       "        text-align: right;\n",
       "    }\n",
       "</style>\n",
       "<table border=\"1\" class=\"dataframe\">\n",
       "  <thead>\n",
       "    <tr style=\"text-align: right;\">\n",
       "      <th></th>\n",
       "      <th>user_id</th>\n",
       "      <th>item_id</th>\n",
       "    </tr>\n",
       "  </thead>\n",
       "  <tbody>\n",
       "    <tr>\n",
       "      <th>0</th>\n",
       "      <td>0</td>\n",
       "      <td>0</td>\n",
       "    </tr>\n",
       "    <tr>\n",
       "      <th>1</th>\n",
       "      <td>0</td>\n",
       "      <td>1</td>\n",
       "    </tr>\n",
       "    <tr>\n",
       "      <th>2</th>\n",
       "      <td>0</td>\n",
       "      <td>2</td>\n",
       "    </tr>\n",
       "    <tr>\n",
       "      <th>3</th>\n",
       "      <td>0</td>\n",
       "      <td>3</td>\n",
       "    </tr>\n",
       "    <tr>\n",
       "      <th>4</th>\n",
       "      <td>0</td>\n",
       "      <td>4</td>\n",
       "    </tr>\n",
       "  </tbody>\n",
       "</table>\n",
       "</div>"
      ],
      "text/plain": [
       "   user_id  item_id\n",
       "0        0        0\n",
       "1        0        1\n",
       "2        0        2\n",
       "3        0        3\n",
       "4        0        4"
      ]
     },
     "execution_count": 130,
     "metadata": {},
     "output_type": "execute_result"
    }
   ],
   "source": [
    "train_df.head()"
   ]
  },
  {
   "cell_type": "code",
   "execution_count": 131,
   "metadata": {},
   "outputs": [
    {
     "data": {
      "text/html": [
       "<div>\n",
       "<style scoped>\n",
       "    .dataframe tbody tr th:only-of-type {\n",
       "        vertical-align: middle;\n",
       "    }\n",
       "\n",
       "    .dataframe tbody tr th {\n",
       "        vertical-align: top;\n",
       "    }\n",
       "\n",
       "    .dataframe thead th {\n",
       "        text-align: right;\n",
       "    }\n",
       "</style>\n",
       "<table border=\"1\" class=\"dataframe\">\n",
       "  <thead>\n",
       "    <tr style=\"text-align: right;\">\n",
       "      <th></th>\n",
       "      <th>user_id</th>\n",
       "      <th>item_id</th>\n",
       "      <th>neg_items</th>\n",
       "    </tr>\n",
       "  </thead>\n",
       "  <tbody>\n",
       "    <tr>\n",
       "      <th>126</th>\n",
       "      <td>0</td>\n",
       "      <td>126</td>\n",
       "      <td>[2733, 21244, 30404, 32104, 20758, 14936, 1543...</td>\n",
       "    </tr>\n",
       "    <tr>\n",
       "      <th>175</th>\n",
       "      <td>1</td>\n",
       "      <td>175</td>\n",
       "      <td>[37074, 38300, 23311, 31786, 15042, 23307, 369...</td>\n",
       "    </tr>\n",
       "    <tr>\n",
       "      <th>259</th>\n",
       "      <td>2</td>\n",
       "      <td>258</td>\n",
       "      <td>[22451, 15213, 9988, 16584, 34216, 5182, 11043...</td>\n",
       "    </tr>\n",
       "    <tr>\n",
       "      <th>280</th>\n",
       "      <td>3</td>\n",
       "      <td>276</td>\n",
       "      <td>[28022, 5411, 16822, 3899, 28588, 18232, 9725,...</td>\n",
       "    </tr>\n",
       "    <tr>\n",
       "      <th>296</th>\n",
       "      <td>4</td>\n",
       "      <td>289</td>\n",
       "      <td>[25275, 16677, 31076, 5347, 23418, 37545, 3116...</td>\n",
       "    </tr>\n",
       "  </tbody>\n",
       "</table>\n",
       "</div>"
      ],
      "text/plain": [
       "     user_id  item_id                                          neg_items\n",
       "126        0      126  [2733, 21244, 30404, 32104, 20758, 14936, 1543...\n",
       "175        1      175  [37074, 38300, 23311, 31786, 15042, 23307, 369...\n",
       "259        2      258  [22451, 15213, 9988, 16584, 34216, 5182, 11043...\n",
       "280        3      276  [28022, 5411, 16822, 3899, 28588, 18232, 9725,...\n",
       "296        4      289  [25275, 16677, 31076, 5347, 23418, 37545, 3116..."
      ]
     },
     "execution_count": 131,
     "metadata": {},
     "output_type": "execute_result"
    }
   ],
   "source": [
    "dev_df.head()"
   ]
  },
  {
   "cell_type": "code",
   "execution_count": null,
   "metadata": {},
   "outputs": [],
   "source": [
    "# save results\n",
    "\n",
    "train_df.to_csv('train.csv', sep='\\t', index=False)\n",
    "dev_df.to_csv('dev.csv', sep='\\t', index=False)\n",
    "t_df.to_csv('test.csv', sep='\\t', index=False)"
   ]
  },
  {
   "cell_type": "code",
   "execution_count": null,
   "metadata": {},
   "outputs": [],
   "source": []
  }
 ],
 "metadata": {
  "kernelspec": {
   "display_name": "Python 3",
   "language": "python",
   "name": "python3"
  },
  "language_info": {
   "codemirror_mode": {
    "name": "ipython",
    "version": 3
   },
   "file_extension": ".py",
   "mimetype": "text/x-python",
   "name": "python",
   "nbconvert_exporter": "python",
   "pygments_lexer": "ipython3",
   "version": "3.13.0"
  }
 },
 "nbformat": 4,
 "nbformat_minor": 2
}
