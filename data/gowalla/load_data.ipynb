{
 "cells": [
  {
   "cell_type": "markdown",
   "metadata": {},
   "source": [
    "读取txt"
   ]
  },
  {
   "cell_type": "code",
   "execution_count": 25,
   "metadata": {},
   "outputs": [
    {
     "name": "stderr",
     "output_type": "stream",
     "text": [
      "<>:4: SyntaxWarning: invalid escape sequence '\\s'\n",
      "<>:4: SyntaxWarning: invalid escape sequence '\\s'\n",
      "D:\\Users\\Wind\\AppData\\Local\\Temp\\ipykernel_19448\\2458330053.py:4: SyntaxWarning: invalid escape sequence '\\s'\n",
      "  df=pd.read_csv(data_path,sep='\\s+',names=columns)\n"
     ]
    },
    {
     "name": "stdout",
     "output_type": "stream",
     "text": [
      "   user_id          checkin_time   latitude  longitude  location_id\n",
      "0        0  2010-10-19T23:55:27Z  30.235909 -97.795140        22847\n",
      "1        0  2010-10-18T22:17:43Z  30.269103 -97.749395       420315\n",
      "2        0  2010-10-17T23:42:03Z  30.255731 -97.763386       316637\n",
      "3        0  2010-10-17T19:26:05Z  30.263418 -97.757597        16516\n",
      "4        0  2010-10-16T18:50:42Z  30.274292 -97.740523      5535878\n"
     ]
    }
   ],
   "source": [
    "import pandas as pd\n",
    "data_path='Gowalla_totalCheckins.txt'\n",
    "columns = ['user_id', 'checkin_time', 'latitude', 'longitude', 'location_id']\n",
    "df=pd.read_csv(data_path,sep='\\s+',names=columns)\n",
    "print(df.head())"
   ]
  },
  {
   "cell_type": "code",
   "execution_count": 26,
   "metadata": {},
   "outputs": [],
   "source": [
    "import numpy as np\n",
    "RANDOM_SEED = 0\n",
    "NEG_ITEMS = 99"
   ]
  },
  {
   "cell_type": "code",
   "execution_count": 27,
   "metadata": {},
   "outputs": [
    {
     "name": "stdout",
     "output_type": "stream",
     "text": [
      "   user_id              checkin_time   latitude  longitude  location_id  \\\n",
      "0        0 2010-10-19 23:55:27+00:00  30.235909 -97.795140        22847   \n",
      "1        0 2010-10-18 22:17:43+00:00  30.269103 -97.749395       420315   \n",
      "2        0 2010-10-17 23:42:03+00:00  30.255731 -97.763386       316637   \n",
      "3        0 2010-10-17 19:26:05+00:00  30.263418 -97.757597        16516   \n",
      "4        0 2010-10-16 18:50:42+00:00  30.274292 -97.740523      5535878   \n",
      "\n",
      "     time_numeric  \n",
      "0  20101019235527  \n",
      "1  20101018221743  \n",
      "2  20101017234203  \n",
      "3  20101017192605  \n",
      "4  20101016185042  \n"
     ]
    }
   ],
   "source": [
    "df['checkin_time']=pd.to_datetime(df['checkin_time'])\n",
    "df['time_numeric']=df['checkin_time'].dt.strftime('%Y%m%d%H%M%S')\n",
    "print(df.head())"
   ]
  },
  {
   "cell_type": "code",
   "execution_count": 28,
   "metadata": {},
   "outputs": [
    {
     "name": "stdout",
     "output_type": "stream",
     "text": [
      "107092 1280969 6442892 20090204051738 20101023052206\n"
     ]
    }
   ],
   "source": [
    "n_users = df['user_id'].value_counts().size\n",
    "n_items = df['location_id'].value_counts().size\n",
    "n_clicks = len(df)\n",
    "min_time = df['time_numeric'].min()\n",
    "max_time = df['time_numeric'].max()\n",
    "print(n_users, n_items, n_clicks, min_time, max_time)"
   ]
  },
  {
   "cell_type": "code",
   "execution_count": 31,
   "metadata": {},
   "outputs": [],
   "source": [
    "np.random.seed(RANDOM_SEED)"
   ]
  },
  {
   "cell_type": "code",
   "execution_count": null,
   "metadata": {},
   "outputs": [
    {
     "data": {
      "text/html": [
       "<div>\n",
       "<style scoped>\n",
       "    .dataframe tbody tr th:only-of-type {\n",
       "        vertical-align: middle;\n",
       "    }\n",
       "\n",
       "    .dataframe tbody tr th {\n",
       "        vertical-align: top;\n",
       "    }\n",
       "\n",
       "    .dataframe thead th {\n",
       "        text-align: right;\n",
       "    }\n",
       "</style>\n",
       "<table border=\"1\" class=\"dataframe\">\n",
       "  <thead>\n",
       "    <tr style=\"text-align: right;\">\n",
       "      <th></th>\n",
       "      <th>user_id</th>\n",
       "      <th>item_id</th>\n",
       "      <th>time</th>\n",
       "    </tr>\n",
       "  </thead>\n",
       "  <tbody>\n",
       "    <tr>\n",
       "      <th>154</th>\n",
       "      <td>290</td>\n",
       "      <td>9224</td>\n",
       "      <td>20090315062646</td>\n",
       "    </tr>\n",
       "    <tr>\n",
       "      <th>156</th>\n",
       "      <td>197</td>\n",
       "      <td>9224</td>\n",
       "      <td>20090315063406</td>\n",
       "    </tr>\n",
       "    <tr>\n",
       "      <th>157</th>\n",
       "      <td>290</td>\n",
       "      <td>9299</td>\n",
       "      <td>20090315063519</td>\n",
       "    </tr>\n",
       "    <tr>\n",
       "      <th>470</th>\n",
       "      <td>290</td>\n",
       "      <td>9221</td>\n",
       "      <td>20090317042616</td>\n",
       "    </tr>\n",
       "    <tr>\n",
       "      <th>471</th>\n",
       "      <td>197</td>\n",
       "      <td>9221</td>\n",
       "      <td>20090317042647</td>\n",
       "    </tr>\n",
       "  </tbody>\n",
       "</table>\n",
       "</div>"
      ],
      "text/plain": [
       "     user_id  item_id            time\n",
       "154      290     9224  20090315062646\n",
       "156      197     9224  20090315063406\n",
       "157      290     9299  20090315063519\n",
       "470      290     9221  20090317042616\n",
       "471      197     9221  20090317042647"
      ]
     },
     "execution_count": 32,
     "metadata": {},
     "output_type": "execute_result"
    }
   ],
   "source": [
    "out_df = df.rename(columns={'location_id': 'item_id', 'user_id': 'user_id', 'time_numeric': 'time'})\n",
    "out_df = out_df[['user_id', 'item_id', 'time']]\n",
    "out_df = out_df.drop_duplicates(['user_id', 'item_id', 'time'])\n",
    "out_df = out_df.sort_values(by=['time', 'user_id'], kind='mergesort').reset_index(drop=True)\n",
    "l_u=int(len(out_df['user_id'].unique())/6)\n",
    "l_i=int(len(out_df['item_id'].unique())/6)\n",
    "\n",
    "np.random.seed(42)\n",
    "sample_users=np.random.choice(out_df['user_id'].unique(),l_u,replace=False)\n",
    "sample_items=np.random.choice(out_df['item_id'].unique(),l_i,replace=False)\n",
    "\n",
    "filtered_df=out_df[out_df['user_id'].isin(sample_users) & out_df['item_id'].isin(sample_items)]\n",
    "\n",
    "out_df=filtered_df\n",
    "out_df.head()"
   ]
  },
  {
   "cell_type": "code",
   "execution_count": 33,
   "metadata": {},
   "outputs": [
    {
     "data": {
      "text/html": [
       "<div>\n",
       "<style scoped>\n",
       "    .dataframe tbody tr th:only-of-type {\n",
       "        vertical-align: middle;\n",
       "    }\n",
       "\n",
       "    .dataframe tbody tr th {\n",
       "        vertical-align: top;\n",
       "    }\n",
       "\n",
       "    .dataframe thead th {\n",
       "        text-align: right;\n",
       "    }\n",
       "</style>\n",
       "<table border=\"1\" class=\"dataframe\">\n",
       "  <thead>\n",
       "    <tr style=\"text-align: right;\">\n",
       "      <th></th>\n",
       "      <th>user_id</th>\n",
       "      <th>item_id</th>\n",
       "      <th>time</th>\n",
       "    </tr>\n",
       "  </thead>\n",
       "  <tbody>\n",
       "    <tr>\n",
       "      <th>154</th>\n",
       "      <td>56</td>\n",
       "      <td>30</td>\n",
       "      <td>20090315062646</td>\n",
       "    </tr>\n",
       "    <tr>\n",
       "      <th>156</th>\n",
       "      <td>35</td>\n",
       "      <td>30</td>\n",
       "      <td>20090315063406</td>\n",
       "    </tr>\n",
       "    <tr>\n",
       "      <th>157</th>\n",
       "      <td>56</td>\n",
       "      <td>36</td>\n",
       "      <td>20090315063519</td>\n",
       "    </tr>\n",
       "    <tr>\n",
       "      <th>470</th>\n",
       "      <td>56</td>\n",
       "      <td>29</td>\n",
       "      <td>20090317042616</td>\n",
       "    </tr>\n",
       "    <tr>\n",
       "      <th>471</th>\n",
       "      <td>35</td>\n",
       "      <td>29</td>\n",
       "      <td>20090317042647</td>\n",
       "    </tr>\n",
       "  </tbody>\n",
       "</table>\n",
       "</div>"
      ],
      "text/plain": [
       "     user_id  item_id            time\n",
       "154       56       30  20090315062646\n",
       "156       35       30  20090315063406\n",
       "157       56       36  20090315063519\n",
       "470       56       29  20090317042616\n",
       "471       35       29  20090317042647"
      ]
     },
     "execution_count": 33,
     "metadata": {},
     "output_type": "execute_result"
    }
   ],
   "source": [
    "uids = sorted(out_df['user_id'].unique())\n",
    "user2id = dict(zip(uids, range(1, len(uids) + 1)))\n",
    "iids = sorted(out_df['item_id'].unique())\n",
    "item2id = dict(zip(iids, range(1, len(iids) + 1)))\n",
    "\n",
    "out_df['user_id'] = out_df['user_id'].apply(lambda x: user2id[x])\n",
    "out_df['item_id'] = out_df['item_id'].apply(lambda x: item2id[x])\n",
    "out_df.head()"
   ]
  },
  {
   "cell_type": "code",
   "execution_count": 34,
   "metadata": {},
   "outputs": [],
   "source": [
    "# leave one out spliting\n",
    "\n",
    "clicked_item_set = dict()\n",
    "for user_id, seq_df in out_df.groupby('user_id'):\n",
    "    clicked_item_set[user_id] = set(seq_df['item_id'].values.tolist())\n",
    "    \n",
    "def generate_dev_test(data_df):\n",
    "    result_dfs = []\n",
    "    n_items = data_df['item_id'].value_counts().size\n",
    "    for idx in range(2):\n",
    "        result_df = data_df.groupby('user_id').tail(1).copy()\n",
    "        data_df = data_df.drop(result_df.index)\n",
    "        neg_items = np.random.randint(1, n_items + 1, (len(result_df), NEG_ITEMS))\n",
    "        for i, uid in enumerate(result_df['user_id'].values):\n",
    "            user_clicked = clicked_item_set[uid]\n",
    "            for j in range(len(neg_items[i])):\n",
    "                while neg_items[i][j] in user_clicked:\n",
    "                    neg_items[i][j] = np.random.randint(1, n_items + 1)\n",
    "        result_df['neg_items'] = neg_items.tolist()\n",
    "        result_dfs.append(result_df)\n",
    "    return result_dfs, data_df"
   ]
  },
  {
   "cell_type": "code",
   "execution_count": 35,
   "metadata": {},
   "outputs": [
    {
     "data": {
      "text/plain": [
       "(224293, 12853, 14705)"
      ]
     },
     "execution_count": 35,
     "metadata": {},
     "output_type": "execute_result"
    }
   ],
   "source": [
    "import numpy as np\n",
    "leave_df = out_df.groupby('user_id').head(1)\n",
    "data_df = out_df.drop(leave_df.index)\n",
    "\n",
    "[test_df, dev_df], data_df = generate_dev_test(data_df)\n",
    "train_df = pd.concat([leave_df, data_df]).sort_index()\n",
    "\n",
    "len(train_df), len(dev_df), len(test_df)"
   ]
  },
  {
   "cell_type": "code",
   "execution_count": 36,
   "metadata": {},
   "outputs": [
    {
     "data": {
      "text/html": [
       "<div>\n",
       "<style scoped>\n",
       "    .dataframe tbody tr th:only-of-type {\n",
       "        vertical-align: middle;\n",
       "    }\n",
       "\n",
       "    .dataframe tbody tr th {\n",
       "        vertical-align: top;\n",
       "    }\n",
       "\n",
       "    .dataframe thead th {\n",
       "        text-align: right;\n",
       "    }\n",
       "</style>\n",
       "<table border=\"1\" class=\"dataframe\">\n",
       "  <thead>\n",
       "    <tr style=\"text-align: right;\">\n",
       "      <th></th>\n",
       "      <th>user_id</th>\n",
       "      <th>item_id</th>\n",
       "      <th>time</th>\n",
       "    </tr>\n",
       "  </thead>\n",
       "  <tbody>\n",
       "    <tr>\n",
       "      <th>154</th>\n",
       "      <td>56</td>\n",
       "      <td>30</td>\n",
       "      <td>20090315062646</td>\n",
       "    </tr>\n",
       "    <tr>\n",
       "      <th>156</th>\n",
       "      <td>35</td>\n",
       "      <td>30</td>\n",
       "      <td>20090315063406</td>\n",
       "    </tr>\n",
       "    <tr>\n",
       "      <th>157</th>\n",
       "      <td>56</td>\n",
       "      <td>36</td>\n",
       "      <td>20090315063519</td>\n",
       "    </tr>\n",
       "    <tr>\n",
       "      <th>470</th>\n",
       "      <td>56</td>\n",
       "      <td>29</td>\n",
       "      <td>20090317042616</td>\n",
       "    </tr>\n",
       "    <tr>\n",
       "      <th>471</th>\n",
       "      <td>35</td>\n",
       "      <td>29</td>\n",
       "      <td>20090317042647</td>\n",
       "    </tr>\n",
       "  </tbody>\n",
       "</table>\n",
       "</div>"
      ],
      "text/plain": [
       "     user_id  item_id            time\n",
       "154       56       30  20090315062646\n",
       "156       35       30  20090315063406\n",
       "157       56       36  20090315063519\n",
       "470       56       29  20090317042616\n",
       "471       35       29  20090317042647"
      ]
     },
     "execution_count": 36,
     "metadata": {},
     "output_type": "execute_result"
    }
   ],
   "source": [
    "train_df.head()"
   ]
  },
  {
   "cell_type": "code",
   "execution_count": 37,
   "metadata": {},
   "outputs": [
    {
     "data": {
      "text/html": [
       "<div>\n",
       "<style scoped>\n",
       "    .dataframe tbody tr th:only-of-type {\n",
       "        vertical-align: middle;\n",
       "    }\n",
       "\n",
       "    .dataframe tbody tr th {\n",
       "        vertical-align: top;\n",
       "    }\n",
       "\n",
       "    .dataframe thead th {\n",
       "        text-align: right;\n",
       "    }\n",
       "</style>\n",
       "<table border=\"1\" class=\"dataframe\">\n",
       "  <thead>\n",
       "    <tr style=\"text-align: right;\">\n",
       "      <th></th>\n",
       "      <th>user_id</th>\n",
       "      <th>item_id</th>\n",
       "      <th>time</th>\n",
       "      <th>neg_items</th>\n",
       "    </tr>\n",
       "  </thead>\n",
       "  <tbody>\n",
       "    <tr>\n",
       "      <th>2423</th>\n",
       "      <td>4905</td>\n",
       "      <td>656</td>\n",
       "      <td>20090530193818</td>\n",
       "      <td>[32833, 58563, 59228, 10760, 27061, 8513, 5025...</td>\n",
       "    </tr>\n",
       "    <tr>\n",
       "      <th>2792</th>\n",
       "      <td>12810</td>\n",
       "      <td>776</td>\n",
       "      <td>20090614135850</td>\n",
       "      <td>[36559, 63190, 52048, 41863, 74456, 35065, 296...</td>\n",
       "    </tr>\n",
       "    <tr>\n",
       "      <th>4107</th>\n",
       "      <td>4381</td>\n",
       "      <td>1167</td>\n",
       "      <td>20090729170051</td>\n",
       "      <td>[48356, 12963, 45855, 4280, 5390, 58967, 84236...</td>\n",
       "    </tr>\n",
       "    <tr>\n",
       "      <th>4373</th>\n",
       "      <td>4324</td>\n",
       "      <td>545</td>\n",
       "      <td>20090803185413</td>\n",
       "      <td>[34541, 30116, 6447, 68615, 78624, 87859, 6721...</td>\n",
       "    </tr>\n",
       "    <tr>\n",
       "      <th>11563</th>\n",
       "      <td>7996</td>\n",
       "      <td>2218</td>\n",
       "      <td>20090927214716</td>\n",
       "      <td>[72038, 4129, 42308, 29740, 65234, 46637, 4564...</td>\n",
       "    </tr>\n",
       "  </tbody>\n",
       "</table>\n",
       "</div>"
      ],
      "text/plain": [
       "       user_id  item_id            time  \\\n",
       "2423      4905      656  20090530193818   \n",
       "2792     12810      776  20090614135850   \n",
       "4107      4381     1167  20090729170051   \n",
       "4373      4324      545  20090803185413   \n",
       "11563     7996     2218  20090927214716   \n",
       "\n",
       "                                               neg_items  \n",
       "2423   [32833, 58563, 59228, 10760, 27061, 8513, 5025...  \n",
       "2792   [36559, 63190, 52048, 41863, 74456, 35065, 296...  \n",
       "4107   [48356, 12963, 45855, 4280, 5390, 58967, 84236...  \n",
       "4373   [34541, 30116, 6447, 68615, 78624, 87859, 6721...  \n",
       "11563  [72038, 4129, 42308, 29740, 65234, 46637, 4564...  "
      ]
     },
     "execution_count": 37,
     "metadata": {},
     "output_type": "execute_result"
    }
   ],
   "source": [
    "test_df.head()"
   ]
  },
  {
   "cell_type": "code",
   "execution_count": 38,
   "metadata": {},
   "outputs": [],
   "source": [
    "# save results\n",
    "\n",
    "train_df.to_csv('train.csv', sep='\\t', index=False)\n",
    "dev_df.to_csv('dev.csv', sep='\\t', index=False)\n",
    "test_df.to_csv('test.csv', sep='\\t', index=False)"
   ]
  },
  {
   "cell_type": "code",
   "execution_count": null,
   "metadata": {},
   "outputs": [],
   "source": []
  }
 ],
 "metadata": {
  "kernelspec": {
   "display_name": "Python 3",
   "language": "python",
   "name": "python3"
  },
  "language_info": {
   "codemirror_mode": {
    "name": "ipython",
    "version": 3
   },
   "file_extension": ".py",
   "mimetype": "text/x-python",
   "name": "python",
   "nbconvert_exporter": "python",
   "pygments_lexer": "ipython3",
   "version": "3.13.0"
  }
 },
 "nbformat": 4,
 "nbformat_minor": 2
}
